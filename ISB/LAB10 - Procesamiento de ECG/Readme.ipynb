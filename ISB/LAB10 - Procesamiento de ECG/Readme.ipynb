{
 "cells": [
  {
   "cell_type": "markdown",
   "metadata": {},
   "source": [
    "# LAB 10: PROCESAMIENTO DE SEÑALES ECG  \n",
    "\n",
    "#### **Tabla de Contenido**  \n",
    "\n",
    "1. [Introducción](#introduccion)  \n",
    "2. [Objetivos](#objetivos)  \n",
    "3. [Materiales](#materiales)  \n",
    "4. [Procedimiento](#procedimiento)  \n",
    "5. [Resultados](#resultados)  \n",
    "6. [Discusión](#discusion)  \n",
    "7. [Conclusiones](#conclusiones)  \n",
    "8. [Bibliografía](#bibliografia)  \n",
    "    \n",
    "## Introducción  \n",
    "\n",
    "## Objetivos  \n",
    "\n",
    "## Materiales  \n",
    "\n",
    "## Procedimiento  \n",
    "\n",
    "## Resultados  \n",
    "\n",
    "## Discusión   \n",
    "\n",
    "## Bibliografía  \n",
    "\n",
    "\n",
    "## Anexos   \n"
   ]
  }
 ],
 "metadata": {
  "language_info": {
   "name": "python"
  }
 },
 "nbformat": 4,
 "nbformat_minor": 2
}
