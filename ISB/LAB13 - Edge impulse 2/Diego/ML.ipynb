{
 "cells": [
  {
   "cell_type": "markdown",
   "metadata": {},
   "source": [
    "<p style=\"text-align: center; font-size: 1.5em;\"><b>LABORATORIO 13: Edge Impulse</b></p>\n",
    "\n",
    "En este entregable se describirá la metodología utilizada para procesar los datos obtenidos en el Laboratorio 12. Estos datos serán analizados mediante un algoritmo de aprendizaje implementado a través de la plataforma Edge Impulse, que permite configurar diversos parámetros mediante una interfaz intuitiva y fácil de usar. Cabe destacar que, en este caso, el conjunto de datos contiene tres categorías de señales, las cuales corresponden a los siguientes estados:\n",
    "\n",
    "- Estado Basal (Basal)\n",
    "- Aguantando la respiración por 10 segundos (Respiración)\n",
    "- Actividad física intensa (Ejercicio)\n",
    "\n",
    "### Paso 1: Creación de un impulso\n",
    "\n",
    "La creación de un impulso se refiere al proceso de diseñar y configurar un flujo de procesamiento de datos y un modelo de aprendizaje automático que se ajuste a un caso de uso específico. En terminos más sencillos, la creación de un impulso no es más que describir la combinación de pasos que permiten transformar datos en bruto (como señales brindadas por el bitalino) en predicciones útiles mediante un modelo entrenado."
   ]
  },
  {
   "cell_type": "markdown",
   "metadata": {},
   "source": [
    "<div align=\"center\">\n",
    "  <img src=\"./imagenes/fig1.png\" height = \"300\" width=\"500\"><p>\n",
    "\n",
    "  **Figura 1:** Creación de un impulso.\n",
    "  </p>\n",
    "</div>\n",
    "<br>"
   ]
  },
  {
   "cell_type": "markdown",
   "metadata": {},
   "source": [
    "Con el dataset creado en el entregable pasado, procederemos a seleccionar los elementos de cada bloque\n",
    "\n",
    "<div align=\"center\">\n",
    "  <img src=\"./imagenes/fig2.png\" height = \"300\" width=\"500\"><p>\n",
    "\n",
    "  **Figura 2:** Características Espectrales.\n",
    "  </p>\n",
    "</div>\n",
    "<br>\n",
    "\n",
    "<div align=\"center\">\n",
    "  <img src=\"./imagenes/fig3.png\" height = \"300\" width=\"500\"><p>\n",
    "\n",
    "  **Figura 3:** Clasificación.\n",
    "  </p>\n",
    "</div>\n",
    "<br>"
   ]
  },
  {
   "cell_type": "markdown",
   "metadata": {},
   "source": [
    "### Paso 2: Caracteristicas Espectrales\n",
    "\n",
    "Se utilizó un filtro pasabaja con una frecuencia de corte de 150 Hz y de orden 6. Si bien los valores en la gráfica *After filter*, parece una función constante, sin embargo, esto se debe a que los valores de amplitud de la señal ECG procesada (voltaje), son muy pequeños, lo que da esa impresión. Asimismo, se utilizó la fft con 1024 puntos"
   ]
  },
  {
   "cell_type": "markdown",
   "metadata": {},
   "source": [
    "<div align=\"center\">\n",
    "  <img src=\"./imagenes/fig5.png\" height = \"300\" width=\"500\"><p>\n",
    "\n",
    "  **Figura 4:** Parametros de las características espectrales.\n",
    "  </p>\n",
    "</div>\n",
    "<br>"
   ]
  },
  {
   "cell_type": "markdown",
   "metadata": {},
   "source": [
    "<div align=\"center\">\n",
    "  <img src=\"./imagenes/fig7.png\" height = \"300\" width=\"500\"><p>\n",
    "\n",
    "  **Figura 5:** Generar características.\n",
    "  </p>\n",
    "</div>\n",
    "<br>\n"
   ]
  },
  {
   "cell_type": "markdown",
   "metadata": {},
   "source": [
    "### Paso 3: Classifier\n",
    "\n",
    "En este apartado, se establece los parametros para la red neuronal, el cual se encarga de clasificar la información, en este caso la señal de ECG. Los parametros a destacar aquí son el número de ciclos de entrenamiento, la tasa de aprendizaje y la arquitectura neuronal. Respecto al número de ciclos de entrenamiento se estableció el número de ciclos a 175. la tasa de aprendizaje, se mantiene en el valor por defecto de 0.0005. Finalmente, en cuanto a la arquitectura neuronal, se crearon tres capas densas para poder ir extrayendo las características. La primera capa contiene 20 neuronas, ya que de esta forma podemos captar en gran medida las características generales al inicio. Las siguientes capas tienen un número menor ya que a medida que avanzamos, se requiere mayor presición. Las características generales aprendidas en las capas iniciales ahora son sintetizadas para poder representar características específicas, por lo que lo adecuado sería un menor número de neuronas.\n",
    "\n",
    "Finalmente, se efectua el entrenamiento del modelo."
   ]
  },
  {
   "cell_type": "markdown",
   "metadata": {},
   "source": [
    "<div align=\"center\">\n",
    "  <img src=\"./imagenes/final_isb.png\" height = \"300\" width=\"500\"><p>\n",
    "\n",
    "  **Figura 6:** Modelo final.\n",
    "  </p>\n",
    "</div>\n",
    "<br>"
   ]
  },
  {
   "cell_type": "markdown",
   "metadata": {},
   "source": [
    "## Conclusión"
   ]
  },
  {
   "cell_type": "markdown",
   "metadata": {},
   "source": [
    "- Un 60% de precisión en el conjunto de validación indica que el modelo tiene un desempeño moderado, pero este no es suficiente como para considerarlo confiable en aplicaciones críticas.\n",
    "- En la matriz de confusión, la categoría \"Respiración\" tiene el mejor desempeño, mientras que \"Ejercicio\" es la categoría más difícil de clasificar correctamente.\n",
    "- Este modelo muestra potencial, pero requiere optimizaciones adicionales para mejorar su precisión y desempeño general. Podrías probar estas recomendaciones para lograr mejores resultados en la clasificación.\n"
   ]
  }
 ],
 "metadata": {
  "kernelspec": {
   "display_name": "Diegos_environment",
   "language": "python",
   "name": "python3"
  },
  "language_info": {
   "name": "python",
   "version": "3.11.3"
  }
 },
 "nbformat": 4,
 "nbformat_minor": 2
}
