{
 "cells": [
  {
   "cell_type": "code",
   "execution_count": 8,
   "metadata": {},
   "outputs": [],
   "source": [
    "import pandas as pd\n",
    "\n",
    "# Ruta del archivo .txt y nombre del archivo .csv de salida\n",
    "nombres_txt = {\"basal\":[\"R1\",\"R2\",\"R3\"],\"ejercicio\":[\"derivada1\",\"derivada2\",\"derivada3\"],\"respiracion\":[\"derivada1\",\"derivada2\",\"derivada3\"]}\n",
    "nombres_csv = {\"basal\":[\"Basal_DI\",\"Basal_DII\",\"Basal_DIII\"],\n",
    "                \"ejercicio\":[\"Ejercicio_DI\",\"Ejercicio_DII\",\"Ejercicio_DIII\"],\n",
    "                \"respiracion\":[\"Respiracion_DI\",\"Respiracion_DII\",\"Respiracion_DIII\"]}\n",
    "\n",
    "ruta_a_txts = \"Señal_ecg/\"\n",
    "ruta_a_csvs = \"archivos_csv/\"\n",
    "for gesto in nombres_txt.keys():\n",
    "    contador = 0\n",
    "    for derivada in nombres_txt[gesto]:\n",
    "        ruta_completa = ruta_a_txts+gesto+\"/\"+derivada+\".txt\"\n",
    "        with open(ruta_completa,\"r\") as archivo:\n",
    "            data = obtener_dato_de_txt(archivo)\n",
    "        data = filtro_rechaza_banda(data,1000,59,61,4)\n",
    "        tabla = pd.DataFrame(data)\n",
    "        tabla.to_csv(ruta_a_csvs+nombres_csv[gesto][contador]+\".csv\",header=False, index=False)\n",
    "        contador += 1\n",
    "\n"
   ]
  },
  {
   "cell_type": "markdown",
   "metadata": {},
   "source": [
    "## Función para leer data"
   ]
  },
  {
   "cell_type": "code",
   "execution_count": 7,
   "metadata": {},
   "outputs": [],
   "source": [
    "#Función para obtener datos del TXT\n",
    "#solo la data de interés (la 5ta columna)\n",
    "def obtener_dato_de_txt(archivo):\n",
    "    datos = []\n",
    "    marcador = False\n",
    "    #empezar la lactura de los txt\n",
    "    for linea in archivo: #por cada línea\n",
    "        if marcador: #recién adjuntará datos al ser verdadero\n",
    "            datos.append(linea.rstrip().split(\"\\t\")[5])\n",
    "        elif linea.rstrip() == \"# EndOfHeader\":  #marcador será verdadero a partir la línea esa\n",
    "            marcador = True #por lo tanto, solo nos devolverá los datos, sin los comentarios\n",
    "    return datos"
   ]
  },
  {
   "cell_type": "markdown",
   "metadata": {},
   "source": [
    "## Para filtro notch"
   ]
  },
  {
   "cell_type": "code",
   "execution_count": 6,
   "metadata": {},
   "outputs": [],
   "source": [
    "from scipy.signal import butter, filtfilt\n",
    "import numpy as np\n",
    "import matplotlib.pyplot as plt\n",
    "\n",
    "# Parámetros: \n",
    "    #orden 4\n",
    "    #butterworth\n",
    "    #fc1 = 59Hz\n",
    "    #fc2 = 61Hz\n",
    "def filtro_rechaza_banda(signal, fs, fc1, fc2, order):\n",
    "    # Calcular frecuencias normalizadas\n",
    "    nyquist = fs / 2  # Frecuencia de Nyquist\n",
    "    low = fc1 / nyquist  # Frecuencia normalizada baja\n",
    "    high = fc2 / nyquist  # Frecuencia normalizada alta\n",
    "\n",
    "    # Diseño del filtro Butterworth Rechaza Banda\n",
    "    b, a = butter(order, [low, high], btype='bandstop')\n",
    "\n",
    "    # Aplicar el filtro\n",
    "    #signal es una lista de str\n",
    "    new_signal = []\n",
    "    for dato in signal:\n",
    "        new_signal.append(float(dato))\n",
    "    filtered_signal = filtfilt(b, a, new_signal)\n",
    "\n",
    "    return filtered_signal"
   ]
  }
 ],
 "metadata": {
  "kernelspec": {
   "display_name": "mne",
   "language": "python",
   "name": "python3"
  },
  "language_info": {
   "codemirror_mode": {
    "name": "ipython",
    "version": 3
   },
   "file_extension": ".py",
   "mimetype": "text/x-python",
   "name": "python",
   "nbconvert_exporter": "python",
   "pygments_lexer": "ipython3",
   "version": "3.12.6"
  }
 },
 "nbformat": 4,
 "nbformat_minor": 2
}
