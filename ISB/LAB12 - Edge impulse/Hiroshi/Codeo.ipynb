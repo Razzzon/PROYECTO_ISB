{
 "cells": [
  {
   "cell_type": "code",
   "execution_count": 45,
   "metadata": {},
   "outputs": [],
   "source": [
    "import pandas as pd\n",
    "\n",
    "# Ruta del archivo .txt y nombre del archivo .csv de salida\n",
    "nombres_txt = {\"basal\":[\"R1\",\"R2\",\"R3\"],\"ejercicio\":[\"derivada1\",\"derivada2\",\"derivada3\"],\"respiracion\":[\"derivada1\",\"derivada2\",\"derivada3\"]}\n",
    "nombres_csv = {\"basal\":[\"Basal_DI\",\"Basal_DII\",\"Basal_DIII\"],\n",
    "                \"ejercicio\":[\"Ejercicio_DI\",\"Ejercicio_DII\",\"Ejercicio_DIII\"],\n",
    "                \"respiracion\":[\"Respiracion_DI\",\"Respiracion_DII\",\"Respiracion_DIII\"]}\n",
    "\n",
    "ruta_a_txts = \"../Señal_ecg/\"\n",
    "ruta_a_csvs = \"archivos_csv/\"\n",
    "for gesto in nombres_txt.keys():\n",
    "    contador = 0\n",
    "    for derivada in nombres_txt[gesto]:\n",
    "        ruta_completa = ruta_a_txts+gesto+\"/\"+derivada+\".txt\"\n",
    "        with open(ruta_completa,\"r\") as archivo:\n",
    "            data = obtener_dato_de_txt(archivo)\n",
    "        tabla = pd.DataFrame(data)\n",
    "        tabla.to_csv(ruta_a_csvs+nombres_csv[gesto][contador]+\".csv\",header=False, index=False)\n",
    "        contador += 1\n"
   ]
  },
  {
   "cell_type": "markdown",
   "metadata": {},
   "source": [
    "## Función para leer data"
   ]
  },
  {
   "cell_type": "code",
   "execution_count": null,
   "metadata": {},
   "outputs": [],
   "source": [
    "#Función para obtener datos del TXT\n",
    "#solo la data de interés (la 5ta columna)\n",
    "def obtener_dato_de_txt(archivo):\n",
    "    datos = []\n",
    "    marcador = False\n",
    "    #empezar la lactura de los txt\n",
    "    for linea in archivo: #por cada línea\n",
    "        if marcador: #recién adjuntará datos al ser verdadero\n",
    "            datos.append(linea.rstrip().split(\"\\t\")[5])\n",
    "        elif linea.rstrip() == \"# EndOfHeader\":  #marcador será verdadero a partir la línea esa\n",
    "            marcador = True #por lo tanto, solo nos devolverá los datos, sin los comentarios\n",
    "    return datos"
   ]
  },
  {
   "cell_type": "code",
   "execution_count": null,
   "metadata": {},
   "outputs": [],
   "source": [
    "with open(\"../Señal_ecg/basal/R1.txt\",\"r\") as archivo:\n",
    "    data = obtener_dato_de_txt(archivo)\n",
    "tabla = pd.DataFrame(data)\n",
    "tabla.to_csv(\"archivos_csv/basal1.csv\",header=False, index=False)\n",
    "print(f\"El archivo {nombre_txt} ha sido convertido a {nombre_csv}\")"
   ]
  }
 ],
 "metadata": {
  "kernelspec": {
   "display_name": "mne",
   "language": "python",
   "name": "python3"
  },
  "language_info": {
   "codemirror_mode": {
    "name": "ipython",
    "version": 3
   },
   "file_extension": ".py",
   "mimetype": "text/x-python",
   "name": "python",
   "nbconvert_exporter": "python",
   "pygments_lexer": "ipython3",
   "version": "3.12.6"
  }
 },
 "nbformat": 4,
 "nbformat_minor": 2
}
