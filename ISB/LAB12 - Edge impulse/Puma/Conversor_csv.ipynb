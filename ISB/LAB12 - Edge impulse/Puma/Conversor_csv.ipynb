{
 "cells": [
  {
   "cell_type": "code",
   "execution_count": 10,
   "metadata": {},
   "outputs": [],
   "source": [
    "import pandas as pd\n",
    "\n",
    "with open(\"./Señal_ECG/respiracion/derivada3.txt\",\"r\") as archivo:\n",
    "    data = obtener_dato_de_txt(archivo)\n",
    "tabla = pd.DataFrame(data)\n",
    "tabla.to_csv(\"./archivos_csv/Respiracion_DIII.csv\",header=False, index=False)"
   ]
  },
  {
   "cell_type": "code",
   "execution_count": 1,
   "metadata": {},
   "outputs": [],
   "source": [
    "#Función para obtener la data relevante de los archivos txt\n",
    "def obtener_dato_de_txt(archivo):\n",
    "    datos = []\n",
    "    marcador = False\n",
    "    #empezar la lactura de los txt\n",
    "    for linea in archivo: #por cada línea\n",
    "        if marcador: #recién adjuntará datos al ser verdadero\n",
    "            datos.append(linea.rstrip().split(\"\\t\")[5])\n",
    "        elif linea.rstrip() == \"# EndOfHeader\":  #marcador será verdadero a partir la línea esa\n",
    "            marcador = True #por lo tanto, solo nos devolverá los datos, sin los comentarios\n",
    "    return datos"
   ]
  }
 ],
 "metadata": {
  "kernelspec": {
   "display_name": "mne",
   "language": "python",
   "name": "python3"
  },
  "language_info": {
   "codemirror_mode": {
    "name": "ipython",
    "version": 3
   },
   "file_extension": ".py",
   "mimetype": "text/x-python",
   "name": "python",
   "nbconvert_exporter": "python",
   "pygments_lexer": "ipython3",
   "version": "3.12.5"
  }
 },
 "nbformat": 4,
 "nbformat_minor": 2
}
