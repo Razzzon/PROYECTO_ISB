{
 "cells": [
  {
   "cell_type": "markdown",
   "metadata": {},
   "source": [
    "<p style=\"text-align: center; font-size: 1.5em;\"><b>LABORATORIO 12: Edge Impulse - DataSet</b></p>\n",
    "\n",
    "El presente laboratorio consiste en la recolección de dataset para entrenar, validar y probar un modelo de aprendizaje automático. Los datos recolectados son señales ECG, provenientes del laboratorio 5, obtenidas bajo las siguientes condiciones:\n",
    "\n",
    "- Estado basal\n",
    "- Conteniendo la respiración por 10 segundos\n",
    "- Ejercicio intenso durante 5 minutos\n",
    "\n",
    "Se utilizó el Bitalino para la adquisición de las señales, el archivo con la información es devuelta en formato .txt, por lo que es necesario convertirlo a .csv para que la herramienta CSV wizard pueda ser utilizada correctamente.\n",
    "\n",
    "A continuación se detalla los pasos a seguir para ...:"
   ]
  },
  {
   "cell_type": "markdown",
   "metadata": {},
   "source": [
    "### **PASO 1:** Conversión del Archivo **.txt** a **.csv**"
   ]
  },
  {
   "cell_type": "markdown",
   "metadata": {},
   "source": [
    "<p style=\"text-align: justify;\">\n",
    "La información generada por el BITalino en un archivo .txt incluye datos que no son relevantes para nuestro análisis. Por lo tanto, ignoraremos las tres primeras líneas del archivo. Después, nos enfocaremos únicamente en la columna 6, correpondiente al índice 5. Esta columna contiene los valores de amplitud de la señal ECG expresados en bits.\n",
    "\n",
    "Para interpretar correctamente estos datos, debemos convertir los valores de bits a voltaje. Esta conversión se basa en las especificaciones del conversor digital-analógico (DAC) del microcontrolador del BITalino, considerando el rango de bits utilizado y el voltaje de referencia del sistema. \n",
    "</p>"
   ]
  },
  {
   "cell_type": "code",
   "execution_count": null,
   "metadata": {},
   "outputs": [],
   "source": [
    "import matplotlib.pyplot as plt \n",
    "import numpy as np\n",
    "\n",
    "def read(archivo,Fs):\n",
    "    #Esta función devuelve unicamente la amplitud de la señal contenida en el txt, la cual\n",
    "    #Se encuentra en la 6 columna, index 5\n",
    "    with open(archivo,\"r\") as senhal:\n",
    "        next(senhal)\n",
    "        next(senhal)\n",
    "        next(senhal)\n",
    "        senhal=senhal.readlines()\n",
    "        amplitude=[]\n",
    "        for linea in senhal:\n",
    "            x=int(linea.split()[5])\n",
    "            amplitude.append(x)   \n",
    "        amplitude=np.array(amplitude) \n",
    "        amplitude=EmgToVoltage(amplitude)\n",
    "    return amplitude\n",
    "\n",
    "def EmgToVoltage(emg_signal, adc_resolution=10, v_ref=3.3, gain=1000, offset=1.65):\n",
    "    \n",
    "    # Número máximo que puede representar el ADC\n",
    "    max_adc_value = 2**adc_resolution - 1\n",
    "    \n",
    "    # Conversión de la señal a voltios\n",
    "    voltage_signal = (np.array(emg_signal) / max_adc_value) * v_ref\n",
    "    \n",
    "    # Restar el offset (centrar la señal en 0)\n",
    "    adjusted_voltage_signal = voltage_signal - offset\n",
    "    \n",
    "    # Ajustar la ganancia del sensor EMG\n",
    "    emg_voltage = adjusted_voltage_signal / gain\n",
    "    \n",
    "    return emg_voltage"
   ]
  },
  {
   "cell_type": "markdown",
   "metadata": {},
   "source": [
    "\n",
    "Una vez que tenemos el .txt con la información relevante, ahora solo queda convertirlo a .csv, para ello, se utilizó la librería ***pandas***. Las señales que el grupo utilizó para el desarrollo de este laboratorio se encuentra en una carpeta llamada ***Señal_ecg***, se debe acceder a ella para obtener cada señal, y convertirla al formato que queremos. Se hace uso de bucle **for** y **diccionarios** para pasar todas las señales de manera rápida y automática.\n"
   ]
  },
  {
   "cell_type": "code",
   "execution_count": 2,
   "metadata": {},
   "outputs": [],
   "source": [
    "import pandas as pd\n",
    "\n",
    "#Del Bitalino\n",
    "Fs=1000\n",
    "\n",
    "# Ruta del archivo .txt y nombre del archivo .csv de salida\n",
    "#Creación de diccionarios con nombres y rutas, con la finalidad de evitar realizar cada conversión por separado\n",
    "nombres_txt = {\"basal\":[\"R1\",\"R2\",\"R3\"],\"ejercicio\":[\"derivada1\",\"derivada2\",\"derivada3\"],\"respiracion\":[\"derivada1\",\"derivada2\",\"derivada3\"]}\n",
    "nombres_csv = {\"basal\":[\"DIBasal\",\"DIIBasal\",\"DIIIBasal\"],\n",
    "                \"ejercicio\":[\"DIEjercicio_\",\"DIIEjercicio_\",\"DIIIEjercicio_\"],\n",
    "                \"respiracion\":[\"DIRespiracion\",\"DIIRespiracion\",\"DIIIRespiracion\"]}\n",
    "\n",
    "#Rutas para acceder a cada carpeta\n",
    "#Los .., indican que salimos de la carpeta dónde nos encontramos \n",
    "txtRuta = \"../Señal_ecg/\"\n",
    "csvRuta = \"ArchivosCSV/\"\n",
    "\n",
    "#Iterar por \"keys\"\n",
    "for actividad in nombres_txt.keys():\n",
    "    #Para facilitar el acceder a los elementos del diccionario nombres_csv\n",
    "    contador = 0\n",
    "    for derivada in nombres_txt[actividad]:\n",
    "        ruta_completa = txtRuta+actividad+\"/\"+derivada+\".txt\" #Concatenamos la ruta  \n",
    "        amplitude=read(ruta_completa,Fs)\n",
    "        tabla = pd.DataFrame(amplitude)\n",
    "        #Convertimos la data a CSV\n",
    "        tabla.to_csv(csvRuta+nombres_csv[actividad][contador]+\".csv\",header=False, index=False)\n",
    "        contador += 1"
   ]
  },
  {
   "cell_type": "markdown",
   "metadata": {},
   "source": [
    "A continuación se muestran los archivos .csv creados\n",
    "<div align=\"center\">\n",
    "  <img src=\"./imagenes/ArchivosCSV_creados.png\" height = \"300\" width=\"300\"><p>\n",
    "\n",
    "  **Figura 1: Archivos CSV generados**\n",
    "  </p>\n",
    "</div>\n",
    "<br>\n"
   ]
  },
  {
   "cell_type": "markdown",
   "metadata": {},
   "source": [
    "### **PASO 2:** Configurar CSV wizard"
   ]
  },
  {
   "cell_type": "markdown",
   "metadata": {},
   "source": [
    "El CSV Wizard es una herramienta que facilita la importación y el procesamiento de datos en formato .csv dentro de Edge Impulse. Una vez configurado, los archivos que se suban siguen el mismo patrón definido durante la configuración del CSV Wizard. Esto garantiza que los datos sean interpretados correctamente por la plataforma y se asignen de manera adecuada a las características especificadas.\n",
    "\n",
    "Los pasos se detallan en las siguientes imágenes:"
   ]
  },
  {
   "cell_type": "markdown",
   "metadata": {},
   "source": [
    "<div align=\"center\">\n",
    "  <img src=\"./imagenes/STEP1_CSVWIZARD.png\" height = \"300\" width=\"500\"><p>\n",
    "\n",
    "  **Figura 2:** Subida del archivo de prueba.\n",
    "  </p>\n",
    "</div>\n",
    "<br>"
   ]
  },
  {
   "cell_type": "markdown",
   "metadata": {},
   "source": [
    "<div align=\"center\">\n",
    "  <img src=\"./imagenes/STEP2CSVWIZ.png\" height = \"300\" width=\"500\"><p>\n",
    "\n",
    "  **Figura 3:** Procesamos la información - label: Voltage.\n",
    "  </p>\n",
    "</div>\n",
    "<br>"
   ]
  },
  {
   "cell_type": "markdown",
   "metadata": {},
   "source": [
    "<div style=\"text-align: center;\">\n",
    "    <div style=\"display: flex; justify-content: center; gap: 20px;\">\n",
    "        <img src=\"./imagenes/STEP3.1CSVWIZ.png\" alt=\"Imagen 1\" width=\"450\"/>\n",
    "        <img src=\"./imagenes/STEP3.2CSVWIZZ.png\" alt=\"Imagen 2\" width=\"450\"/>\n",
    "    </div>\n",
    "    <p style=\"margin-top: 10px;\"> \n",
    "    <b>Figura 4 y 5:</b> Detallamos las características de la señal. \n",
    "    </p>\n",
    "</div>"
   ]
  },
  {
   "cell_type": "markdown",
   "metadata": {},
   "source": [
    "<div style=\"text-align: center;\">\n",
    "    <div style=\"display: flex; justify-content: center; gap: 20px;\">\n",
    "        <img src=\"./imagenes/STEP4.1CSVWIZ.png\" alt=\"Imagen 1\" width=\"300\"/>\n",
    "        <img src=\"./imagenes/STEP4.2CSVWIZ.png\" alt=\"Imagen 2\" width=\"550\"/>\n",
    "    </div>\n",
    "    <p style=\"margin-top: 10px;\"> \n",
    "    <b>Figura 5 y 6:</b> Detallamos la columna que contiene la información. \n",
    "    </p>\n",
    "</div>"
   ]
  },
  {
   "cell_type": "markdown",
   "metadata": {},
   "source": [
    "<div align=\"center\">\n",
    "  <img src=\"./imagenes/STEP5CSVWIZZ.png\" height = \"300\" width=\"700\"><p>\n",
    "\n",
    "  **Figura 7:** Definimos el tamaño de la ventana, en este caso 10s\n",
    "  </p>\n",
    "</div>\n",
    "<br>"
   ]
  },
  {
   "cell_type": "markdown",
   "metadata": {},
   "source": [
    "### **PASO 3:** Subimos las señales"
   ]
  },
  {
   "cell_type": "markdown",
   "metadata": {},
   "source": [
    "En la opción de DATASET, nos dirigimos a la opción ***upload data***, esto nos abrirá una pestaña, dónde intuitivamente podemos subir los archivos. Asimismo, indicar que se pueden subir más de un archivo a la vez, por lo que estratégicamente, se optó por subir las señales correspondientes a cada actividad con su respectivo etiquetado."
   ]
  },
  {
   "cell_type": "markdown",
   "metadata": {},
   "source": [
    "<div style=\"text-align: center;\">\n",
    "    <div style=\"display: flex; justify-content: center; gap: 20px;\">\n",
    "        <img src=\"./imagenes/UPLOADDATA.png\" alt=\"Imagen 1\" width=\"500\"/>\n",
    "        <img src=\"./imagenes/EJERCICIOSUBIDA_2.png\" alt=\"Imagen 2\" width=\"150\"/>\n",
    "    </div>\n",
    "    <p style=\"margin-top: 10px;\"> \n",
    "    <b>Figura 8 y 9:</b> Upload Data. \n",
    "    </p>\n",
    "</div>"
   ]
  },
  {
   "cell_type": "markdown",
   "metadata": {},
   "source": [
    "<div align=\"center\">\n",
    "  <img src=\"./imagenes/Ejercicio_ss.png\" height = \"350\" width=\"650\"><p>\n",
    "\n",
    "  **Figura 10:** Visualización de los archivos subidos.\n",
    "  </p>\n",
    "</div>\n",
    "<br>"
   ]
  },
  {
   "cell_type": "markdown",
   "metadata": {},
   "source": [
    "Una vez subido los archivos, notamos que la mayoría de las señales tienes una duración de 10 segundos, esto se debe a la configuración previa del CSV wizard, asimismo, parte de las señales se encuentran en la sección de **Training** (mayor parte) y la restante se encuentra en la sección de **Test**, dentro de estos encontraremos segmentos que son irrelevantes para el modelo, ya que son muy cortos, debido al ventaneo, es por ello que deben ser retirados."
   ]
  },
  {
   "cell_type": "markdown",
   "metadata": {},
   "source": [
    "<div align=\"center\">\n",
    "  <img src=\"./imagenes/SEGMENTO_IRRELEVANTE.png\" height = \"300\" width=\"650\"><p>\n",
    "\n",
    "  **Figura 10:** Segmento irrelevante.\n",
    "  </p>\n",
    "</div>\n",
    "<br>"
   ]
  },
  {
   "cell_type": "markdown",
   "metadata": {},
   "source": [
    "Para una mayor distinción entre actividades, se puede usar la herramienta filter para ver las señales de acuerdo a los parametros que se tomen."
   ]
  },
  {
   "cell_type": "markdown",
   "metadata": {},
   "source": [
    "<div align=\"center\">\n",
    "  <img src=\"./imagenes/filter.png\" height = \"300\" width=\"350\"><p>\n",
    "\n",
    "  **Figura 10:** Función filter.\n",
    "  </p>\n",
    "</div>\n",
    "<br>"
   ]
  },
  {
   "cell_type": "markdown",
   "metadata": {},
   "source": [
    "Una vez que toda la información ha sido cargada en la plataforma, es fundamental asegurarse de que los porcentajes de datos destinados al entrenamiento y a la prueba cumplan con los requisitos establecidos para garantizar un entrenamiento adecuado del modelo. Para ello, se realiza una división (split) de las señales disponibles, asignándolas de forma manual, ya que inicialmente se designaron de manera automática a los conjuntos de entrenamiento y prueba. "
   ]
  },
  {
   "cell_type": "markdown",
   "metadata": {},
   "source": [
    "<div align=\"center\">\n",
    "  <img src=\"./imagenes/infogeneral.png\" height = \"150\" width=\"450\"><p>\n",
    "\n",
    "  **Figura 11:** Versión final.\n",
    "  </p>\n",
    "</div>\n",
    "<br>"
   ]
  },
  {
   "cell_type": "markdown",
   "metadata": {},
   "source": [
    "Una vez que se han alcanzado los valores adecuados para los porcentajes de datos destinados al entrenamiento y a la prueba, y se ha verificado que la distribución de las señales está equilibrada y representa todas las clases de manera adecuada, se puede considerar que el dataset está correctamente preparado y listo para su uso.\n",
    "\n",
    "**Link:** https://studio.edgeimpulse.com/public/560010/live"
   ]
  },
  {
   "cell_type": "markdown",
   "metadata": {},
   "source": [
    "<div align=\"center\">\n",
    "  <img src=\"./imagenes/FINAL.png\" height = \"300\" width=\"650\"><p>\n",
    "\n",
    "  **Figura 12:** Vista General.\n",
    "  </p>\n",
    "</div>\n",
    "<br>"
   ]
  }
 ],
 "metadata": {
  "kernelspec": {
   "display_name": "Diegos_environment",
   "language": "python",
   "name": "python3"
  },
  "language_info": {
   "codemirror_mode": {
    "name": "ipython",
    "version": 3
   },
   "file_extension": ".py",
   "mimetype": "text/x-python",
   "name": "python",
   "nbconvert_exporter": "python",
   "pygments_lexer": "ipython3",
   "version": "3.11.3"
  }
 },
 "nbformat": 4,
 "nbformat_minor": 2
}
