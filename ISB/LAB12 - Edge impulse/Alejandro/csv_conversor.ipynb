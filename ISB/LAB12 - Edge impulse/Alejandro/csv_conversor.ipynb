{
 "cells": [
  {
   "cell_type": "markdown",
   "metadata": {},
   "source": [
    "<p align=center style =\"font-size:33px;\"> \n",
    "<b> LAB 12: IMPORTACION DE DATA A EDGE IMPULSE </b>\n",
    " </p>"
   ]
  },
  {
   "cell_type": "markdown",
   "metadata": {},
   "source": [
    "En el presente entregable, se describirá la metodología seguida para poder subir data a la plataforma Edge Impulse. La data que se subira será, en este caso, la obtenida en el Laboratorio 5, donde se extrajeron señales de ECG (3 derivadas bipolares) para tres estados en particular:\n",
    "\n",
    "- Reposo\n",
    "- Aguantando la respiración por 10 segundos\n",
    "- Inmediatamente después de 5 minutos continuos de ejercicio predominantemente aeróbico.\n",
    "\n",
    "La información de estas señales fue captada gracias al uso del Kit BITalino junto a sus electrodos. A continuación, se detallarán los pasos seguidos, desde la conversión de los archivos captados por el BITalino al formato adecuado para la subida, hasta el split de data entre *training* y *test*."
   ]
  },
  {
   "cell_type": "markdown",
   "metadata": {},
   "source": [
    "### **Conversión de archivos .txt a CSV**\n",
    "La data obtenida del BITalino es guardada de forma automática en formato .txt. En ocasiones, este tipo de formato puede generar problemas al momento de subir a Edge Impulse, tal cual se vio durante el desarrollo de la sesión de laboratorio. Es debido a esto que como primer paso, se opto por convertir toda la data de .txt a .csv, formato el cual no presenta problema alguno para la subida.\n",
    "\n",
    "Para la conversión, se implemento el siguiente código en forma de función. Este permite eliminar columnas y filas indeseadas para tener un .csv con solo la información pertinente."
   ]
  },
  {
   "cell_type": "code",
   "execution_count": null,
   "metadata": {},
   "outputs": [],
   "source": [
    "import numpy as np\n",
    "\n",
    "def datos_a_CSV(data):\n",
    "    # Abrir el archivo de texto\n",
    "    with open(data, \"r\") as f:\n",
    "        # Saltar las tres primeras líneas\n",
    "        next(f)\n",
    "        next(f)\n",
    "        next(f)\n",
    "        \n",
    "        # Leer todas las líneas restantes\n",
    "        all_data = f.readlines()   \n",
    "    \n",
    "    # Procesar cada línea, dividiendo por tabulaciones\n",
    "    all_data = [line.strip().split('\\t') for line in all_data]\n",
    "    \n",
    "    # Extraer la primera columna (muestra)\n",
    "    sample = [int(row[0]) for row in all_data]  # Primera columna\n",
    "   \n",
    "    # Extraer la sexta columna (amplitud)\n",
    "    amplitude = [int(row[5]) for row in all_data]  # Sexta columna (índice 5)\n",
    "    amplitude = np.array(amplitude)\n",
    "\n",
    "    with open(\"data1.csv\", \"w\") as f: #Se puede cambiar el nombre data1 por cualquier otro, solo será el nombre del archivo .csv generado\n",
    "        for s, a in zip(sample, amplitude):\n",
    "            f.write(f\"{s}; {a}\\n\") #Datos separados por ;"
   ]
  },
  {
   "cell_type": "markdown",
   "metadata": {},
   "source": [
    "A continuación, se muestra un ejemplo de uso de la función. Asimismo, todos los archivos .csv obtenidos se encuentran en la carpeta *Datos en formato CSV*, dentro de la subcarpeta personal (*Alejandro*) de este laboratorio."
   ]
  },
  {
   "cell_type": "code",
   "execution_count": null,
   "metadata": {},
   "outputs": [],
   "source": [
    "datos_a_CSV(\"reposo1.txt\") #reposo1.txt puede ser reemplazado por cualquier otro archivo .txt proveniente del BITalino."
   ]
  },
  {
   "cell_type": "markdown",
   "metadata": {},
   "source": [
    "En la siguiente imágen, podemos ver que se obtuvieron 9 archivos .csv, producto de que para cada uno de los 3 estados tenemos 3 derivadas. El que representa cada archivo se define por lo siguiente:\n",
    "\n",
    "- data1 a data3: reposo, representando de la primera a tercera derivada (en ese orden)\n",
    "- data4 a data6: ejercicio, representando de la primera a tercera derivada (en ese orden)\n",
    "- data7 a data9: aguantar la respiración, representando de la primera a tercera derivada (en ese orden)"
   ]
  },
  {
   "cell_type": "markdown",
   "metadata": {},
   "source": [
    "<div align=\"center\">\n",
    "  <img src=\"./imagenes/EMG/BICEPS/biceps - espectro.png\" height = \"350\" width=\"600\"><p>\n",
    "\n",
    "  **Figura 1: Archivos creados con la data**\n",
    "  </p>\n",
    "</div>\n",
    "<br>"
   ]
  },
  {
   "cell_type": "markdown",
   "metadata": {},
   "source": [
    "### **Creación de proyecto y configuraciones en Edge Impulse**\n",
    "Teniendo ya la data convertida, se procedió a crear un nuevo proyecto en Edge Impulse llamado *Lab12_EdgeImpulse*. Se muestra una imagen del dashboard del proyecto."
   ]
  },
  {
   "cell_type": "markdown",
   "metadata": {},
   "source": [
    "<div align=\"center\">\n",
    "  <img src=\"./imagenes/EMG/BICEPS/biceps - espectro.png\" height = \"300\" width=\"600\"><p>\n",
    "\n",
    "  **Figura 2: Dashboard de Lab12_EdgeImpulse**\n",
    "  </p>\n",
    "</div>\n",
    "<br>"
   ]
  },
  {
   "cell_type": "markdown",
   "metadata": {},
   "source": [
    "Se configuro la subida y leída de archivos mediante la herramiente CSV Wizard de Edge Impulse. En primera instancia, se subio el archivo modelo para el CSV Wizard. Este archivo debe tener una disposición de los datos igual al resto de datos que serán subidos más adelante para que Edge Impulse sepa como leerlos y que data rescatar. Se configuro como separador (delimiter) al \";\", ya que así se implemento el código de conversión del archivo de texto.\n",
    "\n",
    "<div align=\"center\">\n",
    "  <img src=\"./imagenes/EMG/BICEPS/biceps - espectro.png\" height = \"300\" width=\"600\"><p>\n",
    "\n",
    "  **Figura 3: Configuración del separador y cabeceras**\n",
    "  </p>\n",
    "</div>\n",
    "<br>\n",
    "\n",
    "Posterior a esto, se configuro que la data era de series temporales, al igual que la frecuencia de muestreo de 1000 Hz (esta es la frecuencia con la que trabaja el BITalino). \n",
    "\n",
    "<div align=\"left\">\n",
    "  <img src=\"imagenes/derivada1/derivada1_basal.png\" width=\"45%\" style=\"display: inline-block;\">\n",
    "  <img src=\"imagenes/derivada1/derivada1_respiracion.png\" width=\"45%\" style=\"display: inline-block;\">\n",
    "\n",
    "  <p style=\"text-align: center;\"><strong>Figura 4: Configuración de hecha en el paso 3 de CSV Wizard</strong></p>\n",
    "</div>\n",
    "<br>"
   ]
  },
  {
   "cell_type": "markdown",
   "metadata": {},
   "source": [
    "Se selecciona la columna que contiene los datos en el CSV. En este caso, se selecciono la columna *Unnamed2* ya que esta contiene los valores de amplitud de la señal ECG.\n",
    "\n",
    "<div align=\"center\">\n",
    "  <img src=\"./imagenes/EMG/BICEPS/biceps - espectro.png\" height = \"300\" width=\"600\"><p>\n",
    "\n",
    "  **Figura 5: Selección de columna de interés**\n",
    "  </p>\n",
    "</div>\n",
    "<br>\n",
    "\n",
    "Finalmente, para poder preservar la uniformidad de los datos, se opto por establecer una longitud para cada serie de datos. En este caso, se eligió que cada serie de datos tenga una longitud de 10 segundos.\n",
    "\n",
    "<div align=\"center\">\n",
    "  <img src=\"./imagenes/EMG/BICEPS/biceps - espectro.png\" height = \"300\" width=\"600\"><p>\n",
    "\n",
    "  **Figura 6: Longitud de los segmentos de datos**\n",
    "  </p>\n",
    "</div>\n",
    "<br>\n",
    "\n",
    "A continuación, se muestra una imagen de la configuración ya terminada e implementada en el CSV Wizard.\n",
    "\n",
    "<div align=\"center\">\n",
    "  <img src=\"./imagenes/EMG/BICEPS/biceps - espectro.png\" height = \"300\" width=\"600\"><p>\n",
    "\n",
    "  **Figura 7: Configuración finalizada en CSV Wizard**\n",
    "  </p>\n",
    "</div>\n",
    "<br>"
   ]
  },
  {
   "cell_type": "markdown",
   "metadata": {},
   "source": [
    "### **Subida de data**\n",
    "Habiendo configurado el CSV Wizard, se realizó la subida de archivos. Se subieron los archivos en grupos de tres, donde cada grupo corresponde a un estado. Los 9 archivos no se suben en conjunto debido a que cada grupo de tres corresponde a un estado, por lo que tienen etiquetas diferentes. Se muestra en la imagen un ejemplo de la subida en conjunto de archivos bajo la misma etiqueta. Este proceso se hizo para la data de los otros dos estados restantes.\n",
    "\n",
    "<div align=\"center\">\n",
    "  <img src=\"./imagenes/EMG/BICEPS/biceps - espectro.png\" height = \"300\" width=\"600\"><p>\n",
    "\n",
    "  **Figura 8: Subida de los tres archivos con data del estado en reposo**\n",
    "  </p>\n",
    "</div>\n",
    "<br>\n",
    "\n",
    "Al subir todos los archivos, se pudo apreciar que Edge Impulse separo correctamente la data en segmentos de 10 segundos de duración. No obstante, habia segmentos de menor longitud ya que la longitud total de las señales no siempre eran múltiplos de 10. Esto ocasiono que la data no estuviera correctamente distribuida entre *training* y *test*, sumado a que habia estados con más data que otros por la mayor cantidad de segmentos. Para solventar esto, se eliminaron los segmentos menores a 10 segundos, al igual que mover algunas señales entre *training* y *test* para lograr un balanceo adecuado. Finalmente, se obtuvo lo siguiente.\n",
    "\n",
    "<div align=\"center\">\n",
    "  <img src=\"./imagenes/EMG/BICEPS/biceps - espectro.png\" height = \"300\" width=\"600\"><p>\n",
    "\n",
    "  **Figura 9: Dataset generado tras los ajustes adicionales**\n",
    "  </p>\n",
    "</div>\n",
    "<br>"
   ]
  },
  {
   "cell_type": "markdown",
   "metadata": {},
   "source": [
    "### **Enlace al proyecto de Edge Impulse**\n",
    "Para poder visualizar al proyecto creado y al dataset, acceder al siguiente enlace: https://studio.edgeimpulse.com/public/558182/live"
   ]
  }
 ],
 "metadata": {
  "kernelspec": {
   "display_name": "mne",
   "language": "python",
   "name": "python3"
  },
  "language_info": {
   "codemirror_mode": {
    "name": "ipython",
    "version": 3
   },
   "file_extension": ".py",
   "mimetype": "text/x-python",
   "name": "python",
   "nbconvert_exporter": "python",
   "pygments_lexer": "ipython3",
   "version": "3.12.5"
  }
 },
 "nbformat": 4,
 "nbformat_minor": 2
}
