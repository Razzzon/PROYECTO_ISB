{
 "cells": [
  {
   "cell_type": "code",
   "execution_count": 22,
   "metadata": {},
   "outputs": [],
   "source": [
    "import numpy as np\n",
    "import pandas as pd\n",
    "\n",
    "def datos_a_CSV(data):\n",
    "    # Abrir el archivo de texto\n",
    "    with open(data, \"r\") as f:\n",
    "        # Saltar las tres primeras líneas\n",
    "        next(f)\n",
    "        next(f)\n",
    "        next(f)\n",
    "        \n",
    "        # Leer todas las líneas restantes\n",
    "        all_data = f.readlines()   \n",
    "    \n",
    "    # Procesar cada línea, dividiendo por tabulaciones\n",
    "    all_data = [line.strip().split('\\t') for line in all_data]\n",
    "    \n",
    "    # Extraer la primera columna (muestra)\n",
    "    sample = [int(row[0]) for row in all_data]  # Primera columna\n",
    "   \n",
    "    # Extraer la sexta columna (amplitud)\n",
    "    amplitude = [int(row[5]) for row in all_data]  # Sexta columna (índice 5)\n",
    "    amplitude = np.array(amplitude)\n",
    "\n",
    "    with open(\"data9.csv\", \"w\") as f:\n",
    "        for s, a in zip(sample, amplitude):\n",
    "            f.write(f\"{s}; {a}\\n\")"
   ]
  },
  {
   "cell_type": "code",
   "execution_count": 23,
   "metadata": {},
   "outputs": [],
   "source": [
    "datos_a_CSV(\"respiracion3.txt\")"
   ]
  }
 ],
 "metadata": {
  "kernelspec": {
   "display_name": "mne",
   "language": "python",
   "name": "python3"
  },
  "language_info": {
   "codemirror_mode": {
    "name": "ipython",
    "version": 3
   },
   "file_extension": ".py",
   "mimetype": "text/x-python",
   "name": "python",
   "nbconvert_exporter": "python",
   "pygments_lexer": "ipython3",
   "version": "3.12.5"
  }
 },
 "nbformat": 4,
 "nbformat_minor": 2
}
