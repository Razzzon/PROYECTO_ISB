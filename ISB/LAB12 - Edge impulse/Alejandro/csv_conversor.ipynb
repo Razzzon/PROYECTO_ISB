{
 "cells": [
  {
   "cell_type": "markdown",
   "metadata": {},
   "source": [
    "<p align=center style =\"font-size:33px;\"> \n",
    "<b> LAB 12: IMPORTACION DE DATA A EDGE IMPULSE </b>\n",
    " </p>"
   ]
  },
  {
   "cell_type": "markdown",
   "metadata": {},
   "source": [
    "En el presente entregable, se describirá la metodología seguida para poder subir data a la plataforma Edge Impulse. La data que se subira será, en este caso, la obtenida en el Laboratorio 5, donde se extrajeron señales de ECG (3 derivadas bipolares) para tres estados en particular:\n",
    "\n",
    "- Reposo\n",
    "- Aguantando la respiración por 10 segundos\n",
    "- Inmediatamente después de 5 minutos continuos de ejercicio predominantemente aeróbico.\n",
    "\n",
    "La información de estas señales fue captada gracias al uso del Kit BITalino junto a sus electrodos. A continuación, se detallarán los pasos seguidos, desde la conversión de los archivos captados por el BITalino al formato adecuado para la subida, hasta el split de data entre *training* y *test*."
   ]
  },
  {
   "cell_type": "markdown",
   "metadata": {},
   "source": [
    "### **Conversión de .txt a CSV**\n",
    "La data obtenida del BITalino es guardada de forma automática en formato .txt. En ocasiones, este tipo de formato puede generar problemas al momento de subir a Edge Impulse, tal cual se vio durante el desarrollo de la sesión de laboratorio. Es debido a esto que como primer paso, se opto por convertir toda la data de .txt a .csv, formato el cual no presenta problema alguno para la subida.\n",
    "\n",
    "Para la conversión, se implemento el siguiente código en forma de función. Este permite eliminar columnas y filas indeseadas para tener un .csv con solo la información pertinente."
   ]
  },
  {
   "cell_type": "code",
   "execution_count": null,
   "metadata": {},
   "outputs": [],
   "source": [
    "import numpy as np\n",
    "\n",
    "def datos_a_CSV(data):\n",
    "    # Abrir el archivo de texto\n",
    "    with open(data, \"r\") as f:\n",
    "        # Saltar las tres primeras líneas\n",
    "        next(f)\n",
    "        next(f)\n",
    "        next(f)\n",
    "        \n",
    "        # Leer todas las líneas restantes\n",
    "        all_data = f.readlines()   \n",
    "    \n",
    "    # Procesar cada línea, dividiendo por tabulaciones\n",
    "    all_data = [line.strip().split('\\t') for line in all_data]\n",
    "    \n",
    "    # Extraer la primera columna (muestra)\n",
    "    sample = [int(row[0]) for row in all_data]  # Primera columna\n",
    "   \n",
    "    # Extraer la sexta columna (amplitud)\n",
    "    amplitude = [int(row[5]) for row in all_data]  # Sexta columna (índice 5)\n",
    "    amplitude = np.array(amplitude)\n",
    "\n",
    "    with open(\"data1.csv\", \"w\") as f: #Se puede cambiar el nombre data1 por cualquier otro, solo será el nombre del archivo .csv generado\n",
    "        for s, a in zip(sample, amplitude):\n",
    "            f.write(f\"{s}; {a}\\n\")"
   ]
  },
  {
   "cell_type": "markdown",
   "metadata": {},
   "source": [
    "A continuación, se muestra un ejemplo de uso de la función. Asimismo, todos los archivos .csv obtenidos se encuentran en la carpeta *Datos en formato CSV*, dentro de la subcarpeta personal (*Alejandro*) de este laboratorio."
   ]
  },
  {
   "cell_type": "code",
   "execution_count": null,
   "metadata": {},
   "outputs": [],
   "source": [
    "datos_a_CSV(\"reposo1.txt\") #reposo1.txt puede ser reemplazado por cualquier otro archivo .txt proveniente del BITalino."
   ]
  },
  {
   "cell_type": "markdown",
   "metadata": {},
   "source": [
    "En la siguiente imágen, podemos ver que se obtuvieron 9 archivos .csv, producto de que para cada uno de los 3 estados tenemos 3 derivadas. El que representa cada archivo se define por lo siguiente:\n",
    "\n",
    "- data1 a data3: reposo, representando de la primera a tercera derivada (en ese orden)\n",
    "- data4 a data6: ejercicio, representando de la primera a tercera derivada (en ese orden)\n",
    "- data7 a data9: aguantar la respiración, representando de la primera a tercera derivada (en ese orden)"
   ]
  }
 ],
 "metadata": {
  "kernelspec": {
   "display_name": "mne",
   "language": "python",
   "name": "python3"
  },
  "language_info": {
   "codemirror_mode": {
    "name": "ipython",
    "version": 3
   },
   "file_extension": ".py",
   "mimetype": "text/x-python",
   "name": "python",
   "nbconvert_exporter": "python",
   "pygments_lexer": "ipython3",
   "version": "3.12.5"
  }
 },
 "nbformat": 4,
 "nbformat_minor": 2
}
