{
 "cells": [
  {
   "cell_type": "markdown",
   "metadata": {},
   "source": [
    "<p align=\"center\" style = \"font-size:40px;\"> <b>LAB 12: Edge Impulse</b> </p>\n",
    "\n"
   ]
  },
  {
   "cell_type": "markdown",
   "metadata": {},
   "source": [
    "1. **Seleccionar los archivos para el dataset (ECG)**\n",
    "2. **Convertirlos de txt a csv**\n",
    "3. **Subirlo al Edge Impulse**"
   ]
  },
  {
   "cell_type": "markdown",
   "metadata": {},
   "source": [
    "### **Proceso de pasar de txt a csv**\n",
    "Primero se lee el txt y posteriormente se escribe en un archivo csv \n",
    "Los txt, se encuentran en la carpeta codigos"
   ]
  },
  {
   "cell_type": "markdown",
   "metadata": {},
   "source": [
    "####  **Función para leer  txt**"
   ]
  },
  {
   "cell_type": "code",
   "execution_count": 1,
   "metadata": {},
   "outputs": [],
   "source": [
    "import pandas as pd\n",
    "import numpy as np\n",
    "def funcion_leer(nombre):\n",
    "    # Leer el archivo\n",
    "    with open(nombre, 'r') as file:\n",
    "        # Saltar las líneas de encabezado hasta que termine el EndOfHeader\n",
    "        while True:\n",
    "            line = file.readline()\n",
    "            if \"EndOfHeader\" in line:\n",
    "                break\n",
    "        \n",
    "        # Cargar los datos en un DataFrame\n",
    "        data = pd.read_csv(file, delimiter='\\t', header=None)\n",
    "        \n",
    "    # Seleccionar solo la quinta columna (índice 4 ya que Python empieza desde 0)\n",
    "    columna_5 = data.iloc[:, 5]\n",
    "    # Convertir la columna a un array de NumPy\n",
    "    array_np = np.array(columna_5)\n",
    "    return array_np"
   ]
  },
  {
   "cell_type": "markdown",
   "metadata": {},
   "source": [
    "#### **Escribir la información a csv**"
   ]
  },
  {
   "cell_type": "code",
   "execution_count": 2,
   "metadata": {},
   "outputs": [
    {
     "name": "stderr",
     "output_type": "stream",
     "text": [
      "<>:4: SyntaxWarning: invalid escape sequence '\\c'\n",
      "<>:5: SyntaxWarning: invalid escape sequence '\\c'\n",
      "<>:6: SyntaxWarning: invalid escape sequence '\\c'\n",
      "<>:7: SyntaxWarning: invalid escape sequence '\\c'\n",
      "<>:8: SyntaxWarning: invalid escape sequence '\\c'\n",
      "<>:9: SyntaxWarning: invalid escape sequence '\\c'\n",
      "<>:10: SyntaxWarning: invalid escape sequence '\\c'\n",
      "<>:11: SyntaxWarning: invalid escape sequence '\\c'\n",
      "<>:12: SyntaxWarning: invalid escape sequence '\\c'\n",
      "<>:4: SyntaxWarning: invalid escape sequence '\\c'\n",
      "<>:5: SyntaxWarning: invalid escape sequence '\\c'\n",
      "<>:6: SyntaxWarning: invalid escape sequence '\\c'\n",
      "<>:7: SyntaxWarning: invalid escape sequence '\\c'\n",
      "<>:8: SyntaxWarning: invalid escape sequence '\\c'\n",
      "<>:9: SyntaxWarning: invalid escape sequence '\\c'\n",
      "<>:10: SyntaxWarning: invalid escape sequence '\\c'\n",
      "<>:11: SyntaxWarning: invalid escape sequence '\\c'\n",
      "<>:12: SyntaxWarning: invalid escape sequence '\\c'\n",
      "C:\\Users\\rogge\\AppData\\Local\\Temp\\ipykernel_43604\\1542129528.py:4: SyntaxWarning: invalid escape sequence '\\c'\n",
      "  \"codigos\\codigos/basal/R1.txt\"\n",
      "C:\\Users\\rogge\\AppData\\Local\\Temp\\ipykernel_43604\\1542129528.py:5: SyntaxWarning: invalid escape sequence '\\c'\n",
      "  ,\"codigos\\codigos/basal/R2.txt\"\n",
      "C:\\Users\\rogge\\AppData\\Local\\Temp\\ipykernel_43604\\1542129528.py:6: SyntaxWarning: invalid escape sequence '\\c'\n",
      "  ,\"codigos\\codigos/basal/R3.txt\"\n",
      "C:\\Users\\rogge\\AppData\\Local\\Temp\\ipykernel_43604\\1542129528.py:7: SyntaxWarning: invalid escape sequence '\\c'\n",
      "  ,\"codigos\\codigos/ejercicio/derivada1.txt\"\n",
      "C:\\Users\\rogge\\AppData\\Local\\Temp\\ipykernel_43604\\1542129528.py:8: SyntaxWarning: invalid escape sequence '\\c'\n",
      "  ,\"codigos\\codigos/ejercicio/derivada2.txt\"\n",
      "C:\\Users\\rogge\\AppData\\Local\\Temp\\ipykernel_43604\\1542129528.py:9: SyntaxWarning: invalid escape sequence '\\c'\n",
      "  ,\"codigos\\codigos/ejercicio/derivada3.txt\"\n",
      "C:\\Users\\rogge\\AppData\\Local\\Temp\\ipykernel_43604\\1542129528.py:10: SyntaxWarning: invalid escape sequence '\\c'\n",
      "  ,\"codigos\\codigos/respiracion/derivada1.txt\"\n",
      "C:\\Users\\rogge\\AppData\\Local\\Temp\\ipykernel_43604\\1542129528.py:11: SyntaxWarning: invalid escape sequence '\\c'\n",
      "  ,\"codigos\\codigos/respiracion/derivada2.txt\"\n",
      "C:\\Users\\rogge\\AppData\\Local\\Temp\\ipykernel_43604\\1542129528.py:12: SyntaxWarning: invalid escape sequence '\\c'\n",
      "  ,\"codigos\\codigos/respiracion/derivada3.txt\"]\n"
     ]
    },
    {
     "name": "stdout",
     "output_type": "stream",
     "text": [
      "Datos guardados\n"
     ]
    }
   ],
   "source": [
    "import csv\n",
    "## Nombre de los archivos txt para convertir a csv\n",
    "nombres_txt=[\n",
    "    \"codigos\\codigos/basal/R1.txt\"\n",
    "    ,\"codigos\\codigos/basal/R2.txt\"\n",
    "    ,\"codigos\\codigos/basal/R3.txt\"\n",
    "    ,\"codigos\\codigos/ejercicio/derivada1.txt\"\n",
    "    ,\"codigos\\codigos/ejercicio/derivada2.txt\"\n",
    "    ,\"codigos\\codigos/ejercicio/derivada3.txt\"\n",
    "    ,\"codigos\\codigos/respiracion/derivada1.txt\"\n",
    "    ,\"codigos\\codigos/respiracion/derivada2.txt\"\n",
    "    ,\"codigos\\codigos/respiracion/derivada3.txt\"]\n",
    "\n",
    "nombres_csv=[\n",
    "    \"basal1.csv\",\n",
    "    \"basal2.csv\",\n",
    "    \"basal3.csv\",\n",
    "    \"ejercicio1.csv\",\n",
    "    \"ejercicio2.csv\",\n",
    "    \"ejercicio3.csv\",\n",
    "    \"respiracion1.csv\",\n",
    "    \"respiracion2.csv\",\n",
    "    \"respiracion3.csv\"\n",
    "]\n",
    "\n",
    "for i,j in zip(nombres_csv,nombres_txt):\n",
    "    variable=funcion_leer(j)\n",
    "    tiempo=np.arange(len(variable))\n",
    "    \n",
    "\n",
    "    nombre_archivo = i\n",
    "\n",
    "    # Escribir los arreglos en el archivo CSV con encabezados\n",
    "    with open(nombre_archivo, mode=\"w\", newline=\"\") as archivo_csv:\n",
    "        escritor_csv = csv.writer(archivo_csv)\n",
    "    \n",
    "    # Escribir el encabezado\n",
    "        escritor_csv.writerow([\"tiempo\", \"variable\"])\n",
    "    \n",
    "    # Escribir los datos de tiempo y señal en columnas\n",
    "        for t, s in zip(tiempo, variable):\n",
    "            escritor_csv.writerow([t, s])\n",
    "\n",
    "print(f\"Datos guardados\")"
   ]
  },
  {
   "cell_type": "markdown",
   "metadata": {},
   "source": [
    "### **Edge impulse**"
   ]
  },
  {
   "cell_type": "markdown",
   "metadata": {},
   "source": [
    " - **Crear nuevo proyecto**  "
   ]
  },
  {
   "cell_type": "markdown",
   "metadata": {},
   "source": [
    "<div align = \"center\">\n",
    "<img src=\"Imagenes/1.png\" alt=\"Imagen de incio\" width=\"900\" />\n",
    "</div>"
   ]
  },
  {
   "cell_type": "markdown",
   "metadata": {},
   "source": [
    " - **Especificaciones del nuevo proyecto**\n",
    "     - Nombre del proyecto \n",
    "     - Personal\n",
    "     - Publico   "
   ]
  },
  {
   "cell_type": "markdown",
   "metadata": {},
   "source": [
    "<div align = \"center\">\n",
    "<img src=\"Imagenes/2.png\" alt=\"Imagen de incio\" width=\"400\" />\n",
    "</div>"
   ]
  },
  {
   "cell_type": "markdown",
   "metadata": {},
   "source": [
    "- **Subir las señales**\n",
    "    - Ir a data adquisition\n",
    "    - CSV wizard\n",
    "    - Seleccionar el formato para los archivos a usar"
   ]
  },
  {
   "cell_type": "markdown",
   "metadata": {},
   "source": [
    "<h4> Pasos para configurar el CSV wizard </h4>\n",
    "<div style=\"display:flex; justify-content: center;align-itms: center;\">\n",
    "    <img src= \"imagenes/4.png\" alt=\"Imagen 4\" style =\"width :450px;margin-right:10px;\" > \n",
    "    <img src= \"imagenes/5.png\" alt=\"Imagen 5\" style =\"width :450px;\">\n",
    "    \n",
    "</div>\n"
   ]
  },
  {
   "cell_type": "markdown",
   "metadata": {},
   "source": [
    "#### Seleccionado el archivo, para darle el formato que leera el Edge Impulse"
   ]
  },
  {
   "cell_type": "markdown",
   "metadata": {},
   "source": [
    "<div style=\"display:flex; justify-content: center;align-itms: center;\">\n",
    "    <img src= \"imagenes/6.png\" alt=\"Imagen 4\" style =\"width :300px;margin-right:10px;\" > \n",
    "    <img src= \"imagenes/7.png\" alt=\"Imagen 5\" style =\"width :500px;\">\n",
    "    \n",
    "</div>"
   ]
  },
  {
   "cell_type": "markdown",
   "metadata": {},
   "source": [
    "#### Seleccionado los parametros para la configuración\n",
    "  - Revisarlo los parametros adecuados para que nos quede la informacion que se desea trabajar en la tabla, en este caso como se aprecia las encabezados tiempo y variable se ajustaron para que aparezca como encabezado \n",
    "  - Estamos trabajano con ECG, entonces es una serie de data en el tiempo "
   ]
  },
  {
   "cell_type": "markdown",
   "metadata": {},
   "source": [
    "<div style=\"display:flex; justify-content: center;align-itms: center;\">\n",
    "    <img src= \"imagenes/8.png\" alt=\"Imagen 4\" style =\"width :400px;margin-right:10px;\" > \n",
    "    <img src= \"imagenes/9.png\" alt=\"Imagen 5\" style =\"width :500px;\">\n",
    "    \n",
    "</div>"
   ]
  },
  {
   "cell_type": "markdown",
   "metadata": {},
   "source": [
    "- En este caso tenemos la el encabezado tiempo para poderlo justarlo a esa etiqueta en función de tiempo"
   ]
  },
  {
   "cell_type": "markdown",
   "metadata": {},
   "source": [
    "<div style=\"display:flex; justify-content: center;align-itms: center;\">\n",
    "    <img src= \"imagenes/10.png\" alt=\"Imagen 4\" style =\"width :500px;margin-right:10px;\" > \n",
    " \n",
    "    \n",
    "</div>"
   ]
  },
  {
   "cell_type": "markdown",
   "metadata": {},
   "source": [
    "-  Seleccionamos los parametros como se ve en la imagenes, para tener una correcta lectura por departe de Edge Impulse"
   ]
  },
  {
   "cell_type": "markdown",
   "metadata": {},
   "source": [
    "<div style=\"display:flex; justify-content: center;align-itms: center;\">\n",
    "    <img src= \"imagenes/11a.png\" alt=\"Imagen 11a \" style =\"width :800px;margin-right:10px;\" > \n",
    "    <img src= \"imagenes/11b.png\" alt =\"Imagen 11b \" style=\"width : 400px;\">\n",
    "    \n",
    "</div>"
   ]
  },
  {
   "cell_type": "markdown",
   "metadata": {},
   "source": [
    "-  Para este caso si se desea poner un limite para seccionar la señal le pones el limite a trabajar, para el ejemplo esta de 5000 ms (5 segundos)"
   ]
  },
  {
   "cell_type": "markdown",
   "metadata": {},
   "source": [
    "<div style=\"display:flex; justify-content: center;align-itms: center;\">\n",
    "    <img src= \"imagenes/12.png\" alt=\"Imagen 12 \" style =\"width :500px;margin-right:10px;\" > \n",
    "    \n",
    "</div>"
   ]
  },
  {
   "cell_type": "markdown",
   "metadata": {},
   "source": [
    "- Se termina con el proceso de CSV Wizard\n",
    "- Se continua con subir el o los archivos a trabajar\n",
    "<div style=\"display:flex; justify-content: center;align-itms: center;\">\n",
    "    <img src= \"imagenes/13.png\" alt=\"Imagen 11a \" style =\"width :800px;margin-right:10px;\" > \n",
    "    <img src= \"imagenes/14.png\" alt =\"Imagen 11b \" style=\"width : 400px;\">\n",
    "    \n",
    "</div>\n",
    "\n",
    "\n",
    "\n"
   ]
  },
  {
   "cell_type": "markdown",
   "metadata": {},
   "source": [
    "- Se tiene en cuenta los siguientes parametros \n",
    "    - Select indivual files para el caso de archivos\n",
    "    - Automaticamente se pone en testing o training \n",
    "    - Label, para terner la etiqueta de la tipo de señal \n",
    "    - Notificación de Job completed, si se subio correctamente el o los archivos\n",
    "<div style=\"display:flex; justify-content: center;align-itms: center;\">\n",
    "    <img src= \"imagenes/15.png\" alt=\"Imagen 11a \" style =\"width :400px;margin-right:10px;\" > \n",
    "    <img src= \"imagenes/16.png\" alt =\"Imagen 11b \" style=\"width : 400px;\">\n",
    "    \n",
    "</div>"
   ]
  },
  {
   "cell_type": "markdown",
   "metadata": {},
   "source": [
    "- Ir moviendo algunas data al testing para tener 80 % training y 20 % testing aproximadamente\n",
    "<div style=\"display:flex; justify-content: center;align-itms: center;\">\n",
    "    <img src= \"imagenes/17.png\" alt=\"Imagen 11a \" style =\"width :800px;margin-right:10px;\" > \n",
    "    \n",
    "</div>"
   ]
  },
  {
   "cell_type": "markdown",
   "metadata": {},
   "source": [
    "- Eliminar la data que no cumple con los requisitos, por ejemplo las señales deben durar 5s y en ese caso dura 980 ms \n",
    "<div style=\"display:flex; justify-content: center;align-itms: center;\">\n",
    "    <img src= \"imagenes/18.png\" alt=\"Imagen 11a \" style =\"width :800px;margin-right:10px;\" > \n",
    "    \n",
    "</div>"
   ]
  },
  {
   "cell_type": "markdown",
   "metadata": {},
   "source": [
    "- Habra señales que seran desconocidas, ponerles otra etiqueta o eliminarlas para que no afecte al training  o testing "
   ]
  },
  {
   "cell_type": "markdown",
   "metadata": {},
   "source": [
    "<div style=\"display:flex; justify-content: center;align-itms: center;\">\n",
    "    <img src= \"imagenes/19.png\" alt=\"Imagen 11a \" style =\"width :800px;margin-right:10px;\" > \n",
    "    \n",
    "</div>"
   ]
  },
  {
   "cell_type": "markdown",
   "metadata": {},
   "source": [
    "**EJEMPLO DE COMO DEBE QUEDAR**\n",
    "- 80 % TRAINING\n",
    "- 20 % TESTING\n",
    "\n",
    "Se recomienda que se tenga la mayor cantidad de training data para mejor el entrenamiento, y tambien es recomendable tener valores cercanos a 80/20 de training/testing\n",
    "<div style=\"display:flex; justify-content: center;align-itms: center;\">\n",
    "    <img src= \"imagenes/20.png\" alt=\"Imagen 11a \" style =\"width :600px;margin-right:10px;\" > \n",
    "    \n",
    "</div>"
   ]
  },
  {
   "cell_type": "markdown",
   "metadata": {},
   "source": [
    "- Verificación del training/testing para todas las etiquetas\n",
    "\n",
    "Se observa que los valores estan cerca 80% training y 20% testing\n",
    "\n",
    "Cumple con los requisitos \n",
    "<div style=\"display:flex; justify-content: center;align-itms: center;\">\n",
    "    <img src= \"imagenes/21.png\" alt=\"Imagen 11a \" style =\"width :600px;margin-right:10px;\" > \n",
    "    \n",
    "</div>"
   ]
  }
 ],
 "metadata": {
  "kernelspec": {
   "display_name": "mne",
   "language": "python",
   "name": "python3"
  },
  "language_info": {
   "codemirror_mode": {
    "name": "ipython",
    "version": 3
   },
   "file_extension": ".py",
   "mimetype": "text/x-python",
   "name": "python",
   "nbconvert_exporter": "python",
   "pygments_lexer": "ipython3",
   "version": "3.12.5"
  }
 },
 "nbformat": 4,
 "nbformat_minor": 2
}
