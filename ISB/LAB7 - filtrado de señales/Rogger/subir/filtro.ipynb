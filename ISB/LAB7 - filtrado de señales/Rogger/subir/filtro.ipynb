{
 "cells": [
  {
   "cell_type": "code",
   "execution_count": null,
   "metadata": {},
   "outputs": [],
   "source": [
    "import pandas as pd\n",
    "import numpy as np \n",
    "\n",
    "# Ruta al archivo\n",
    "file_path = '/mnt/data/señal1ECG.txt'\n",
    "\n",
    "# Leer el archivo\n",
    "with open(file_path, 'r') as file:\n",
    "    # Saltar las líneas de encabezado hasta que termine el EndOfHeader\n",
    "    while True:\n",
    "        line = file.readline()\n",
    "        if \"EndOfHeader\" in line:\n",
    "            break\n",
    "    \n",
    "    # Cargar los datos en un DataFrame\n",
    "    data = pd.read_csv(file, delimiter='\\t', header=None)\n",
    "    \n",
    "# Seleccionar solo la quinta columna (índice 4 ya que Python empieza desde 0)\n",
    "columna_5 = data.iloc[:, 4]\n",
    "\n",
    "# Convertir la columna a un array de NumPy\n",
    "array_np = np.array(columna_5)\n",
    "\n",
    "# Mostrar el array\n",
    "print(array_np[:10])  # Muestra los primeros 10 elementos"
   ]
  }
 ],
 "metadata": {
  "kernelspec": {
   "display_name": "mne",
   "language": "python",
   "name": "python3"
  },
  "language_info": {
   "name": "python",
   "version": "3.12.5"
  }
 },
 "nbformat": 4,
 "nbformat_minor": 2
}
